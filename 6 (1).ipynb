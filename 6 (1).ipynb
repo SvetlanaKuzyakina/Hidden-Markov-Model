{
 "cells": [
  {
   "cell_type": "code",
   "execution_count": 64,
   "metadata": {},
   "outputs": [],
   "source": [
    "import numpy as np\n",
    "import pandas as pd\n",
    "import matplotlib.pyplot as plt"
   ]
  },
  {
   "cell_type": "code",
   "execution_count": 65,
   "metadata": {},
   "outputs": [],
   "source": [
    "obs = np.array([1,3,3,2,3,3,3,2,1,2,1,1,3,2,3,2,2,1,3,3,1,1,1,2,1]) # открытые состояния"
   ]
  },
  {
   "cell_type": "code",
   "execution_count": 66,
   "metadata": {},
   "outputs": [],
   "source": [
    "a = np.array([0.6, 0.4, 0.5, 0.5]).reshape(2,2) # переходные вероятности"
   ]
  },
  {
   "cell_type": "code",
   "execution_count": 67,
   "metadata": {},
   "outputs": [],
   "source": [
    "pi = np.array([0.8, 0.2]) # начальные распределения"
   ]
  },
  {
   "cell_type": "code",
   "execution_count": 68,
   "metadata": {},
   "outputs": [],
   "source": [
    "probs = np.array([0.2, 0.5, 0.4, 0.4, 0.4, 0.1]).reshape(3,2) # вероятности скрытых состояний при условии открытых"
   ]
  },
  {
   "cell_type": "code",
   "execution_count": 69,
   "metadata": {},
   "outputs": [
    {
     "name": "stdout",
     "output_type": "stream",
     "text": [
      "LIKELIHOOD IS: 4.978300204739011e-13\n"
     ]
    }
   ],
   "source": [
    "# считаем условное распр состояний HOT и COLD на 1-м шаге\n",
    "alpha = np.array([probs[obs[0]-1][0]*pi[0], probs[obs[0]-1][1]*pi[1]]) \n",
    "\n",
    "for k in range(len(obs)-1): # считаем усл распр на k+1-м шаге\n",
    "    beta = np.array([alpha[0]*a[0][0]*probs[obs[k+1]-1][0] + alpha[1]*a[1][0]*probs[obs[k+1]-1][0],\n",
    "                     alpha[0]*a[0][1]*probs[obs[k+1]-1][1] + alpha[1]*a[1][1]*probs[obs[k+1]-1][1]]) \n",
    "    alpha = beta\n",
    "    \n",
    "sum = alpha[0] + alpha[1]\n",
    "print(\"LIKELIHOOD IS:\", sum)"
   ]
  },
  {
   "cell_type": "code",
   "execution_count": 70,
   "metadata": {},
   "outputs": [],
   "source": [
    "B=np.zeros((25,2)) # алгоритм Витерби\n",
    "In=np.zeros(25, dtype = np.int32)\n",
    "Wa=np.zeros((24,2), dtype = np.int32)\n",
    "B1=np.zeros(2)\n",
    "\n",
    "for j in range(2):\n",
    "    B[0,j]=pi[j]*probs[obs[0]-1,j]\n",
    "    \n",
    "for i in range(1,25):\n",
    "    for j in range(2):\n",
    "        for l in range(2):\n",
    "            B1[l]=B[i-1,l]*probs[l,j]*probs[obs[i]-1,j]\n",
    "        B[i,j]=np.max(B1)\n",
    "        Wa[i-1,j]=np.argmax(B1)    "
   ]
  },
  {
   "cell_type": "code",
   "execution_count": 71,
   "metadata": {},
   "outputs": [],
   "source": [
    "for l in range(2):\n",
    "            B1[l]=B[24,l]\n",
    "In[24]=np.argmax(B1)\n",
    "\n",
    "for i in range(24):\n",
    "    In[23-i]=Wa[23-i,In[24-i]]\n",
    "    \n",
    "In=In+1\n"
   ]
  },
  {
   "cell_type": "code",
   "execution_count": 72,
   "metadata": {},
   "outputs": [
    {
     "name": "stdout",
     "output_type": "stream",
     "text": [
      "THE MOST PROBABLE RESULTS ARE:\n",
      "COLD\n",
      "HOT\n",
      "HOT\n",
      "COLD\n",
      "HOT\n",
      "COLD\n",
      "HOT\n",
      "COLD\n",
      "COLD\n",
      "HOT\n",
      "COLD\n",
      "COLD\n",
      "HOT\n",
      "COLD\n",
      "HOT\n",
      "COLD\n",
      "HOT\n",
      "COLD\n",
      "HOT\n",
      "HOT\n",
      "COLD\n",
      "COLD\n",
      "COLD\n",
      "HOT\n"
     ]
    }
   ],
   "source": [
    "print(\"THE MOST PROBABLE RESULTS ARE:\")\n",
    "for k in range (0,24):\n",
    "    if(In[k]==1):\n",
    "        print(\"HOT\")\n",
    "    else:\n",
    "        print(\"COLD\")\n"
   ]
  },
  {
   "cell_type": "code",
   "execution_count": null,
   "metadata": {},
   "outputs": [],
   "source": []
  }
 ],
 "metadata": {
  "kernelspec": {
   "display_name": "Python 3",
   "language": "python",
   "name": "python3"
  },
  "language_info": {
   "codemirror_mode": {
    "name": "ipython",
    "version": 3
   },
   "file_extension": ".py",
   "mimetype": "text/x-python",
   "name": "python",
   "nbconvert_exporter": "python",
   "pygments_lexer": "ipython3",
   "version": "3.8.3"
  }
 },
 "nbformat": 4,
 "nbformat_minor": 4
}
